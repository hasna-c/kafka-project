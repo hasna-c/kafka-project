{
 "cells": [
  {
   "cell_type": "code",
   "execution_count": 44,
   "id": "623fa2ae",
   "metadata": {},
   "outputs": [],
   "source": [
    "from kafka import KafkaConsumer\n",
    "from time import sleep\n",
    "from json import dumps,loads\n",
    "import json\n",
    "from s3fs import S3FileSystem"
   ]
  },
  {
   "cell_type": "code",
   "execution_count": 48,
   "id": "6e0f423d",
   "metadata": {},
   "outputs": [],
   "source": [
    "consumer = KafkaConsumer(\n",
    "    'demo_test',\n",
    "    bootstrap_servers=[':9092'],\n",
    "    value_deserializer=lambda x: loads(x.decode('utf-8')),\n",
    "    max_poll_interval_ms=1000)"
   ]
  },
  {
   "cell_type": "code",
   "execution_count": 47,
   "id": "e489d5a1",
   "metadata": {},
   "outputs": [],
   "source": [
    "#for c in consumer:\n",
    "   # print(c.value)"
   ]
  },
  {
   "cell_type": "code",
   "execution_count": 49,
   "id": "afda9288",
   "metadata": {},
   "outputs": [],
   "source": [
    "s3 = S3FileSystem()"
   ]
  },
  {
   "cell_type": "code",
   "execution_count": null,
   "id": "55627a19",
   "metadata": {},
   "outputs": [
    {
     "name": "stdout",
     "output_type": "stream",
     "text": [
      "0 {'salah': 'egypt'}\n",
      "1 {'firmino': 'Brazil'}\n"
     ]
    }
   ],
   "source": [
    "for count, message in enumerate(consumer):\n",
    "    print(count, message.value) "
   ]
  },
  {
   "cell_type": "code",
   "execution_count": null,
   "id": "34122457",
   "metadata": {},
   "outputs": [],
   "source": []
  },
  {
   "cell_type": "code",
   "execution_count": null,
   "id": "22881e92",
   "metadata": {},
   "outputs": [],
   "source": []
  },
  {
   "cell_type": "code",
   "execution_count": null,
   "id": "694c9294",
   "metadata": {},
   "outputs": [],
   "source": []
  }
 ],
 "metadata": {
  "kernelspec": {
   "display_name": "Python 3 (ipykernel)",
   "language": "python",
   "name": "python3"
  },
  "language_info": {
   "codemirror_mode": {
    "name": "ipython",
    "version": 3
   },
   "file_extension": ".py",
   "mimetype": "text/x-python",
   "name": "python",
   "nbconvert_exporter": "python",
   "pygments_lexer": "ipython3",
   "version": "3.9.13"
  }
 },
 "nbformat": 4,
 "nbformat_minor": 5
}
